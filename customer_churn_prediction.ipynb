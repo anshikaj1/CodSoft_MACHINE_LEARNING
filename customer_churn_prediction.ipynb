{
  "nbformat": 4,
  "nbformat_minor": 0,
  "metadata": {
    "colab": {
      "provenance": [],
      "authorship_tag": "ABX9TyNTEj8ok64TRuwpIXrRngQr",
      "include_colab_link": true
    },
    "kernelspec": {
      "name": "python3",
      "display_name": "Python 3"
    },
    "language_info": {
      "name": "python"
    }
  },
  "cells": [
    {
      "cell_type": "markdown",
      "metadata": {
        "id": "view-in-github",
        "colab_type": "text"
      },
      "source": [
        "<a href=\"https://colab.research.google.com/github/anshikaj1/CodSoft_MACHINE_LEARNING/blob/main/customer_churn_prediction.ipynb\" target=\"_parent\"><img src=\"https://colab.research.google.com/assets/colab-badge.svg\" alt=\"Open In Colab\"/></a>"
      ]
    },
    {
      "cell_type": "code",
      "execution_count": 1,
      "metadata": {
        "id": "3rX7FD0o6d1-"
      },
      "outputs": [],
      "source": [
        "import numpy as np\n",
        "import pandas as pd\n",
        "import seaborn as sns\n",
        "import matplotlib.ticker as mtick\n",
        "import matplotlib.pyplot as plt\n",
        "%matplotlib inline"
      ]
    },
    {
      "cell_type": "code",
      "source": [
        "telco_base_data = pd.read_csv('Telco-Customer-Churn.csv')"
      ],
      "metadata": {
        "id": "i1iIpemR6whX"
      },
      "execution_count": null,
      "outputs": []
    },
    {
      "cell_type": "code",
      "source": [
        "telco_base_data.head()"
      ],
      "metadata": {
        "id": "iwTvQG9R9Acm"
      },
      "execution_count": null,
      "outputs": []
    },
    {
      "cell_type": "code",
      "source": [
        "telco_base_data.shape\n"
      ],
      "metadata": {
        "id": "em0z4OUF-b9S"
      },
      "execution_count": null,
      "outputs": []
    },
    {
      "cell_type": "code",
      "source": [
        "telco_base_data.columns.values"
      ],
      "metadata": {
        "id": "Q1CXSghn-hKF"
      },
      "execution_count": null,
      "outputs": []
    },
    {
      "cell_type": "code",
      "source": [
        "telco_base_data.dtypes"
      ],
      "metadata": {
        "id": "4yjSg_Yv-mPW"
      },
      "execution_count": null,
      "outputs": []
    },
    {
      "cell_type": "code",
      "source": [
        "telco_base_data.describe()"
      ],
      "metadata": {
        "id": "xbOx6kU6-uvz"
      },
      "execution_count": null,
      "outputs": []
    },
    {
      "cell_type": "code",
      "source": [
        "telco_base_data['Churn'].value_counts().plot(kind='barh', figsize=(8, 6))\n",
        "plt.xlabel(\"Count\", labelpad=14)\n",
        "plt.ylabel(\"Target Variable\", labelpad=14)\n",
        "plt.title(\"Count of TARGET Variable per category\", y=1.02);"
      ],
      "metadata": {
        "id": "W9QQaIaA-wDS"
      },
      "execution_count": null,
      "outputs": []
    },
    {
      "cell_type": "code",
      "source": [
        "100*telco_base_data['Churn'].value_counts()/len(telco_base_data['Churn'])"
      ],
      "metadata": {
        "id": "PwXNDXTT-0yZ"
      },
      "execution_count": null,
      "outputs": []
    },
    {
      "cell_type": "code",
      "source": [
        "telco_base_data['Churn'].value_counts()"
      ],
      "metadata": {
        "id": "Kg2xE0wh-5BF"
      },
      "execution_count": null,
      "outputs": []
    },
    {
      "cell_type": "code",
      "source": [
        "telco_base_data.info(verbose = True)"
      ],
      "metadata": {
        "id": "xTwcWD93DoUw"
      },
      "execution_count": null,
      "outputs": []
    },
    {
      "cell_type": "code",
      "source": [
        "missing = pd.DataFrame((telco_base_data.isnull().sum())*100/telco_base_data.shape[0]).reset_index()\n",
        "plt.figure(figsize=(16,5))\n",
        "ax = sns.pointplot('index',0,data=missing)\n",
        "plt.xticks(rotation =90,fontsize =7)\n",
        "plt.title(\"Percentage of Missing values\")\n",
        "plt.ylabel(\"PERCENTAGE\")\n",
        "plt.show()"
      ],
      "metadata": {
        "id": "O0Y8Y6MCDrTT"
      },
      "execution_count": null,
      "outputs": []
    },
    {
      "cell_type": "code",
      "source": [
        "telco_data = telco_base_data.copy()\n"
      ],
      "metadata": {
        "id": "Xx5_ZAe6DvI0"
      },
      "execution_count": null,
      "outputs": []
    },
    {
      "cell_type": "code",
      "source": [
        "telco_data.TotalCharges = pd.to_numeric(telco_data.TotalCharges, errors='coerce')\n",
        "telco_data.isnull().sum()"
      ],
      "metadata": {
        "id": "1DFkTtWCDzD0"
      },
      "execution_count": null,
      "outputs": []
    },
    {
      "cell_type": "code",
      "source": [
        "telco_data.loc[telco_data ['TotalCharges'].isnull() == True]"
      ],
      "metadata": {
        "id": "k4vTc5VzD2Hr"
      },
      "execution_count": null,
      "outputs": []
    },
    {
      "cell_type": "code",
      "source": [
        "telco_data.dropna(how = 'any', inplace = True)"
      ],
      "metadata": {
        "id": "jkVgkg_uD5ca"
      },
      "execution_count": null,
      "outputs": []
    },
    {
      "cell_type": "code",
      "source": [
        "print(telco_data['tenure'].max())"
      ],
      "metadata": {
        "id": "GViuM7mED8_P"
      },
      "execution_count": null,
      "outputs": []
    },
    {
      "cell_type": "code",
      "source": [
        "labels = [\"{0} - {1}\".format(i, i + 11) for i in range(1, 72, 12)]\n",
        "\n",
        "telco_data['tenure_group'] = pd.cut(telco_data.tenure, range(1, 80, 12), right=False, labels=labels)"
      ],
      "metadata": {
        "id": "CgmaNQeLEAMv"
      },
      "execution_count": null,
      "outputs": []
    },
    {
      "cell_type": "code",
      "source": [
        "telco_data['tenure_group'].value_counts()"
      ],
      "metadata": {
        "id": "hyQ_jE3fEQ7h"
      },
      "execution_count": null,
      "outputs": []
    },
    {
      "cell_type": "code",
      "source": [
        "telco_data.drop(columns= ['customerID','tenure'], axis=1, inplace=True)\n",
        "telco_data.head()"
      ],
      "metadata": {
        "id": "mPyF2XjTETsO"
      },
      "execution_count": null,
      "outputs": []
    },
    {
      "cell_type": "code",
      "source": [
        "for i, predictor in enumerate(telco_data.drop(columns=['Churn', 'TotalCharges', 'MonthlyCharges'])):\n",
        "    plt.figure(i)\n",
        "    sns.countplot(data=telco_data, x=predictor, hue='Churn')"
      ],
      "metadata": {
        "id": "bQP0wGZPEbx5"
      },
      "execution_count": null,
      "outputs": []
    },
    {
      "cell_type": "code",
      "source": [
        "telco_data['Churn'] = np.where(telco_data.Churn == 'Yes',1,0)"
      ],
      "metadata": {
        "id": "GVHlrSkYEjj0"
      },
      "execution_count": null,
      "outputs": []
    },
    {
      "cell_type": "code",
      "source": [
        "telco_data.head()"
      ],
      "metadata": {
        "id": "SbdQOGLoEoHz"
      },
      "execution_count": null,
      "outputs": []
    },
    {
      "cell_type": "code",
      "source": [
        "telco_data_dummies = pd.get_dummies(telco_data)\n",
        "telco_data_dummies.head()"
      ],
      "metadata": {
        "id": "EBUlq423EqhB"
      },
      "execution_count": null,
      "outputs": []
    },
    {
      "cell_type": "code",
      "source": [
        "sns.lmplot(data=telco_data_dummies, x='MonthlyCharges', y='TotalCharges', fit_reg=False)"
      ],
      "metadata": {
        "id": "ZMrfToTTEuIZ"
      },
      "execution_count": null,
      "outputs": []
    },
    {
      "cell_type": "code",
      "source": [
        "Mth = sns.kdeplot(telco_data_dummies.MonthlyCharges[(telco_data_dummies[\"Churn\"] == 0) ],\n",
        "                color=\"Red\", shade = True)\n",
        "Mth = sns.kdeplot(telco_data_dummies.MonthlyCharges[(telco_data_dummies[\"Churn\"] == 1) ],\n",
        "                ax =Mth, color=\"Blue\", shade= True)\n",
        "Mth.legend([\"No Churn\",\"Churn\"],loc='upper right')\n",
        "Mth.set_ylabel('Density')\n",
        "Mth.set_xlabel('Monthly Charges')\n",
        "Mth.set_title('Monthly charges by churn')\n"
      ],
      "metadata": {
        "id": "UGmKJBI3Ezk9"
      },
      "execution_count": null,
      "outputs": []
    },
    {
      "cell_type": "code",
      "source": [
        "Tot = sns.kdeplot(telco_data_dummies.TotalCharges[(telco_data_dummies[\"Churn\"] == 0) ],\n",
        "                color=\"Red\", shade = True)\n",
        "Tot = sns.kdeplot(telco_data_dummies.TotalCharges[(telco_data_dummies[\"Churn\"] == 1) ],\n",
        "                ax =Tot, color=\"Blue\", shade= True)\n",
        "Tot.legend([\"No Churn\",\"Churn\"],loc='upper right')\n",
        "Tot.set_ylabel('Density')\n",
        "Tot.set_xlabel('Total Charges')\n",
        "Tot.set_title('Total charges by churn')"
      ],
      "metadata": {
        "id": "itu2_SuRE3Ks"
      },
      "execution_count": null,
      "outputs": []
    },
    {
      "cell_type": "code",
      "source": [
        "plt.figure(figsize=(20,8))\n",
        "telco_data_dummies.corr()['Churn'].sort_values(ascending = False).plot(kind='bar')"
      ],
      "metadata": {
        "id": "4sVctUpNE697"
      },
      "execution_count": null,
      "outputs": []
    },
    {
      "cell_type": "code",
      "source": [
        "plt.figure(figsize=(12,12))\n",
        "sns.heatmap(telco_data_dummies.corr(), cmap=\"Paired\")"
      ],
      "metadata": {
        "id": "0VSCn0XQFBEZ"
      },
      "execution_count": null,
      "outputs": []
    },
    {
      "cell_type": "code",
      "source": [
        "new_df1_target0=telco_data.loc[telco_data[\"Churn\"]==0]\n",
        "new_df1_target1=telco_data.loc[telco_data[\"Churn\"]==1]"
      ],
      "metadata": {
        "id": "X264Xjb1FE3Q"
      },
      "execution_count": null,
      "outputs": []
    },
    {
      "cell_type": "code",
      "source": [
        "def uniplot(df,col,title,hue =None):\n",
        "\n",
        "    sns.set_style('whitegrid')\n",
        "    sns.set_context('talk')\n",
        "    plt.rcParams[\"axes.labelsize\"] = 20\n",
        "    plt.rcParams['axes.titlesize'] = 22\n",
        "    plt.rcParams['axes.titlepad'] = 30\n",
        "\n",
        "\n",
        "    temp = pd.Series(data = hue)\n",
        "    fig, ax = plt.subplots()\n",
        "    width = len(df[col].unique()) + 7 + 4*len(temp.unique())\n",
        "    fig.set_size_inches(width , 8)\n",
        "    plt.xticks(rotation=45)\n",
        "    plt.yscale('log')\n",
        "    plt.title(title)\n",
        "    ax = sns.countplot(data = df, x= col, order=df[col].value_counts().index,hue = hue,palette='bright')\n",
        "\n",
        "    plt.show()"
      ],
      "metadata": {
        "id": "iYsHg0-vFOJI"
      },
      "execution_count": null,
      "outputs": []
    },
    {
      "cell_type": "code",
      "source": [
        "uniplot(new_df1_target1,col='Partner',title='Distribution of Gender for Churned Customers',hue='gender')"
      ],
      "metadata": {
        "id": "MJuZsZQ8FVMr"
      },
      "execution_count": null,
      "outputs": []
    },
    {
      "cell_type": "code",
      "source": [
        "uniplot(new_df1_target0,col='Partner',title='Distribution of Gender for Non Churned Customers',hue='gender')"
      ],
      "metadata": {
        "id": "Ac0UE1JFFWWm"
      },
      "execution_count": null,
      "outputs": []
    },
    {
      "cell_type": "code",
      "source": [
        "uniplot(new_df1_target1,col='PaymentMethod',title='Distribution of PaymentMethod for Churned Customers',hue='gender')\n"
      ],
      "metadata": {
        "id": "yxfiyCw8Fa27"
      },
      "execution_count": null,
      "outputs": []
    },
    {
      "cell_type": "code",
      "source": [
        "uniplot(new_df1_target1,col='Contract',title='Distribution of Contract for Churned Customers',hue='gender')\n"
      ],
      "metadata": {
        "id": "887U2VRaFfvR"
      },
      "execution_count": null,
      "outputs": []
    },
    {
      "cell_type": "code",
      "source": [
        "uniplot(new_df1_target1,col='Contract',title='Distribution of Contract for Churned Customers',hue='gender')\n"
      ],
      "metadata": {
        "id": "4atgNxuaFnqh"
      },
      "execution_count": null,
      "outputs": []
    },
    {
      "cell_type": "code",
      "source": [
        "uniplot(new_df1_target1,col='TechSupport',title='Distribution of TechSupport for Churned Customers',hue='gender')"
      ],
      "metadata": {
        "id": "fTjD0_sWFuzA"
      },
      "execution_count": null,
      "outputs": []
    },
    {
      "cell_type": "code",
      "source": [
        "uniplot(new_df1_target1,col='SeniorCitizen',title='Distribution of SeniorCitizen for Churned Customers',hue='gender')"
      ],
      "metadata": {
        "id": "irSmpSOVF1j_"
      },
      "execution_count": null,
      "outputs": []
    }
  ]
}